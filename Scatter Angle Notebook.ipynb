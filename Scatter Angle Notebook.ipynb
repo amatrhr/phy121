{
 "cells": [
  {
   "cell_type": "code",
   "execution_count": null,
   "id": "bd8f8c99-6edb-418b-855e-538431eba97b",
   "metadata": {},
   "outputs": [],
   "source": [
    "%pip install pandas\n"
   ]
  },
  {
   "cell_type": "code",
   "execution_count": null,
   "id": "f3c347c1",
   "metadata": {},
   "outputs": [],
   "source": [
    "import matplotlib.pyplot as plt\n",
    "from matplotlib.patches import Circle\n",
    "import numpy as np\n",
    "import typing \n",
    "\n",
    "import pandas as pd"
   ]
  },
  {
   "cell_type": "markdown",
   "id": "959ec448-638e-4cd5-837c-3ae6ea9e1810",
   "metadata": {},
   "source": [
    "# Constants and Data"
   ]
  },
  {
   "cell_type": "code",
   "execution_count": null,
   "id": "2939bd2e-159b-4893-9915-018d01e1cecc",
   "metadata": {},
   "outputs": [],
   "source": [
    "modnames= [\"H\", \"D\", \"He\", \"Be\", \"C\", \"O\"]\n",
    "B_s = np.array([1,0.8888, 0.64, 0.36, 0.2840, 0.2215]) # squared Geometric-Arithmetic Mean Masses (β) for different moderators\n",
    "N_s = np.array([15., 20., 34., 70., 92., 121.])\n",
    "N_PAPER_s = np.array([21., 25., 38., 73., 95., 124.])\n",
    "n_nucleons = np.array([1.,2, 4., 9., 12., 16. ]) # reference:  http://labman.phys.utk.edu/phys222core/modules/m12/nuclear_properties.html\n",
    "D_s = np.power(n_nucleons, 1/3) + 1 # cube root of # nucleons + 1 \n",
    "\n",
    "# search space for optimal scatter angle\n",
    "xdata = np.linspace(np.pi/2.0, np.pi,1001)\n",
    "rng = np.random.default_rng(seed=318912831)\n",
    "    "
   ]
  },
  {
   "cell_type": "code",
   "execution_count": null,
   "id": "63e3f069-5424-430f-8a68-c7076d275318",
   "metadata": {},
   "outputs": [],
   "source": [
    "def n_collis(psi, beta, k_f_i_rat= (1.0/2e6)):\n",
    "    \"\"\"\n",
    "    return vector of N collisions for \n",
    "    set of Beta values from Reed, 2020 \n",
    "    \n",
    "    psi: scattering angle\n",
    "    beta: squared Geometric-Arithmetic Mean Mass (β) of moderator and neutron: 4*(mM)/(m + M)^2 = 4A/(A+1)^2 (A:atomic number)\n",
    "    k_f_i_rat: ratio of final to initial kinetic energy (1 eV /20 MeV by default)\n",
    "    \"\"\"\n",
    "    \n",
    "    log_rat = np.log(k_f_i_rat) # \n",
    "    rat = lambda x: 1 -x*(np.cos(psi)**2)  # Equation 8 from reed, 2020\n",
    "    kprepost = np.apply_along_axis(func1d=rat, axis=0, arr=beta)\n",
    "    return log_rat/np.log(kprepost)"
   ]
  },
  {
   "cell_type": "code",
   "execution_count": null,
   "id": "5aafc221-80a9-46f7-bbf7-841477c97cd9",
   "metadata": {},
   "outputs": [],
   "source": [
    "def collis_loss(psi, beta=B_s, ref=N_s): \n",
    "    \"\"\"\n",
    "    for single psi value, return loss over beta vectors\n",
    "    \"\"\"\n",
    "    return np.linalg.norm(n_collis(psi, beta) - ref)\n",
    "    "
   ]
  },
  {
   "cell_type": "code",
   "execution_count": null,
   "id": "6aa44794-4e5c-4189-98bf-e3e214cb173a",
   "metadata": {},
   "outputs": [],
   "source": [
    "fig, ax = plt.subplots(figsize = (16,9))\n",
    "ax.plot(180*xdata/np.pi, [np.log(collis_loss(x)) for x in xdata])\n",
    "ax.set_ylabel(\"Log of Squared Loss between Simple Estimate and Reference\")\n",
    "ax.set_xlabel(\"Scatter Angle (Degrees)\")\n",
    "min_value = np.argmin([np.log(collis_loss(x)) for x in xdata])\n",
    "ax.axvline(180*xdata[min_value]/np.pi)\n",
    "ax.set_title(f\"Minimal-Loss Scatter angle: {xdata[min_value]/np.pi}$\\pi$; {180*xdata[min_value]/np.pi} degrees\")"
   ]
  },
  {
   "cell_type": "code",
   "execution_count": null,
   "id": "33c35cf9-279e-4129-88a0-fcde612753cf",
   "metadata": {},
   "outputs": [],
   "source": [
    "fig, ax = plt.subplots(figsize = (16,9))\n",
    "ax.plot(B_s, N_s)\n",
    "ax.plot(B_s, N_PAPER_s)\n",
    "ax.plot(B_s, np.round(n_collis(xdata[min_value],B_s)))\n",
    "ax.set_ylabel(\"# Collisions\")\n",
    "ax.set_xlabel(\"Squared Geometric-Arithmetic Mean Mass (β)\\n Lower = More Massive Moderator\")\n",
    "ax.legend(['Reference', 'Reed, 2020', 'Least-Squares'])\n",
    "ax.set_title(f\"Estimates of # Collisions Required for Thermalization \")\n",
    "# ax.set_yscale('log')\n",
    "plt.show()\n",
    "plt.close()"
   ]
  },
  {
   "cell_type": "code",
   "execution_count": null,
   "id": "f6040d6f-37bb-4f25-bef4-7637385817f3",
   "metadata": {},
   "outputs": [],
   "source": [
    "np.round(n_collis(xdata[min_value],B_s))"
   ]
  },
  {
   "cell_type": "code",
   "execution_count": null,
   "id": "6c3c995d",
   "metadata": {},
   "outputs": [],
   "source": [
    "# Function 1: generate random incidence angle\n",
    "def random_incidence(nrr_sd_rat=1e-6, rng=rng):\n",
    "    \"\"\"\n",
    "    computes angle range using arctan(neutron radius / source distance)\n",
    "    nrr_sd_rat: float = neutron radius to source distance ratio; \n",
    "    \n",
    "    \"\"\"\n",
    "   \n",
    "    max_angle = np.arctan(nrr_sd_rat)\n",
    "    rand_angle = rng.uniform(-max_angle, max_angle)\n",
    "    b = (1./nrr_sd_rat)*np.tan(rand_angle)\n",
    "    return b \n",
    "\n"
   ]
  },
  {
   "cell_type": "code",
   "execution_count": null,
   "id": "49b29629-754b-49cb-8ecc-37549151524d",
   "metadata": {},
   "outputs": [],
   "source": [
    "\n",
    "def circle_plot(D=2, to_plot=False, use_angle=False, ratio=1e-6, rng=rng):\n",
    "    \"\"\"\n",
    "    Identify scatter angle and \n",
    "    Plot schematic collision between neutron and moderator nucleus in a random collision\n",
    "    D: average radius of moderator nucleus and neutron, in units of neutron radii\n",
    "    to_plot: boolean of whether to generate a plot\n",
    "    use_angle: choose impact parameter (offset between neutron and moderator center of mass) based on random collision angle, not random place on moderator diameter\n",
    "    ratio (when use_angle=True): distance (in neutron radii) between neutron source and moderator nucleus\n",
    "    \"\"\"\n",
    "    # generate random impact parameter\n",
    "    random_place = rng.uniform(-1,1)\n",
    "    nuc_rad = D - 1 # nuclear radius is expressed in terms of neutron radii\n",
    "    b = random_incidence(ratio)*D if use_angle else random_place*D \n",
    "    scatter_angle = np.arcsin(b/D) #  r+R = 1 + nuc_Rad = D\n",
    "    #  \n",
    "    if to_plot:\n",
    "        fig, ax = plt.subplots()\n",
    "        ax.set_xlim(-1.8*D, 1.8*D)\n",
    "        ax.set_ylim(-1.8*D, 1.8*D)\n",
    "        ax.set_aspect(1)\n",
    "\n",
    "        ax.add_patch(Circle((0,0),nuc_rad, fill=False))\n",
    "        ax.add_patch(Circle((-D*np.cos(scatter_angle),b),1, fill=False))\n",
    "        ax.annotate(xy=(-D*np.cos(scatter_angle),b),xytext=(-D*np.cos(scatter_angle), 0), text=\"\", \n",
    "                    arrowprops=dict(arrowstyle=\"|-|\",shrinkA=0, shrinkB=0, alpha=0.4),xycoords='data',textcoords='data')\n",
    "        ax.arrow(-D*np.cos(scatter_angle),b,2, 0, head_width=0.2)\n",
    "        ax.arrow(-D*np.cos(scatter_angle),b,-2*np.cos(scatter_angle), 2*np.sin(scatter_angle),head_width=0.2)\n",
    "        ax.plot(0,0,'.')\n",
    "        ax.plot(-D*np.cos(scatter_angle),b, '.')\n",
    "        ax.axline((0,0), (-D*np.cos(scatter_angle),b),ls=\"--\", alpha=0.3)\n",
    "        ax.annotate(xy=(-D*np.cos(scatter_angle)*1.075,b *1.3), text=\"$\\psi$\")\n",
    "        ax.annotate(xy=(-D*np.cos(scatter_angle)-0.37, b*0.67), text=\"$b$\", alpha=0.4)\n",
    "        ax.set_title(f\"Scatter angle is {np.round((np.pi - abs(scatter_angle))/np.pi,3)}$\\pi$ or {np.round(180*(np.pi - abs(scatter_angle))/np.pi)} deg.\")\n",
    "        plt.axis('off')\n",
    "        plt.show()\n",
    "        plt.close()\n",
    "    return np.pi - abs(scatter_angle)"
   ]
  },
  {
   "cell_type": "markdown",
   "id": "f496701e-d8ee-4a2c-a669-84834926b45f",
   "metadata": {},
   "source": [
    "# Simulation Code\n",
    "- 10000 simulations per moderator type\n",
    "- random selection of collision image\n",
    "- histograms of scatter angle and energies\n"
   ]
  },
  {
   "cell_type": "code",
   "execution_count": null,
   "id": "9ff75595-5572-4cbd-bfef-b8652682481d",
   "metadata": {},
   "outputs": [],
   "source": [
    "results_dictionary = {}\n",
    "for idx, name in enumerate(modnames):\n",
    "    print(\"#\"*40)\n",
    "    \n",
    "    B = B_s[idx]\n",
    "    D = D_s[idx]\n",
    "    vals = []\n",
    "    print(f\"{name}: B = {B}\")\n",
    "\n",
    "    for x in range(10000):\n",
    "        y = circle_plot(D=D, to_plot = (x%2967 == 0), use_angle=False, ratio=0.0001)\n",
    "        vals.append(y)\n",
    "\n",
    "    fig, ax = plt.subplots()\n",
    "    (abs(180*pd.Series(vals)/np.pi)).hist(ax=ax)\n",
    "    ax.axvline((180*pd.Series(vals)/np.pi).mean(), c= 'orange')\n",
    "    ax.axvline((180*pd.Series(vals)/np.pi).median(), c= 'green')\n",
    "    ax.legend(['mean', 'median'])\n",
    "    ax.set_title(\"Distribution of scatter angles\")\n",
    "    plt.show()\n",
    "    plt.close()\n",
    "    \n",
    "    fig, ax = plt.subplots()\n",
    "\n",
    "    pd.Series(vals).apply(lambda x: 1-B*np.cos(x)**2).hist(ax=ax)\n",
    "    ax.axvline(pd.Series(vals).apply(lambda x: 1-B*np.cos(x)**2).mean(), c= 'orange')\n",
    "    ax.axvline(pd.Series(vals).apply(lambda x: 1-B*np.cos(x)**2).median(), c= 'green')\n",
    "    ax.axvline(1-B/2, c=\"purple\")\n",
    "    ax.set_title(f\"Post-collision to pre-collision kinetic energy based on Cosine-squared of scatter angle:\\n Moderator: {name}\")\n",
    "    ax.legend(['mean','median','Reed, 2020'])\n",
    "    plt.show()\n",
    "    plt.close()\n",
    "    results_dictionary[name] = {\"psi\":(180*pd.Series(vals)/np.pi).mean(), \"n_collisions\": np.round(n_collis(pd.Series(vals).mean(),[B])).item()}"
   ]
  },
  {
   "cell_type": "code",
   "execution_count": null,
   "id": "016a8daa-f2a7-4715-a6e7-5b605ae8efed",
   "metadata": {
    "tags": []
   },
   "outputs": [],
   "source": [
    "results_dictionary"
   ]
  },
  {
   "cell_type": "code",
   "execution_count": null,
   "id": "0b72bed0-9b39-46d0-bfa3-de15e7414375",
   "metadata": {},
   "outputs": [],
   "source": [
    "pd.DataFrame(results_dictionary).T"
   ]
  },
  {
   "cell_type": "code",
   "execution_count": null,
   "id": "a7b0048c-199d-4c16-ae68-ce49a33c0438",
   "metadata": {},
   "outputs": [],
   "source": []
  }
 ],
 "metadata": {
  "kernelspec": {
   "display_name": "Python 3 (ipykernel)",
   "language": "python",
   "name": "python3"
  },
  "language_info": {
   "codemirror_mode": {
    "name": "ipython",
    "version": 3
   },
   "file_extension": ".py",
   "mimetype": "text/x-python",
   "name": "python",
   "nbconvert_exporter": "python",
   "pygments_lexer": "ipython3",
   "version": "3.9.12"
  }
 },
 "nbformat": 4,
 "nbformat_minor": 5
}
